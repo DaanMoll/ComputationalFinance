{
 "cells": [
  {
   "cell_type": "code",
   "execution_count": 4,
   "metadata": {},
   "outputs": [],
   "source": [
    "import numpy as np\n",
    "import numpy.linalg as la\n",
    "import matplotlib.pyplot as plt\n",
    "from scipy.sparse import diags, csr_matrix\n",
    "from scipy.sparse.linalg import spsolve\n",
    "from scipy.stats import norm"
   ]
  },
  {
   "cell_type": "code",
   "execution_count": 72,
   "metadata": {},
   "outputs": [
    {
     "name": "stdout",
     "output_type": "stream",
     "text": [
      "delta: 0.72\n",
      "analytical option value: 21.79\n"
     ]
    }
   ],
   "source": [
    "def analytical_option_value(S, K, t, r, sigma):\n",
    "\n",
    "    d1 = (np.log(S/K) + (r + 0.5 * sigma**2) * t) / (sigma * np.sqrt(t))\n",
    "    d2 = d1 - sigma * np.sqrt(t)\n",
    "\n",
    "    print(f'delta: {norm.cdf(d1):.2f}')\n",
    "    return S * norm.cdf(d1) - np.exp(-r*t) * K * norm.cdf(d2)\n",
    "\n",
    "value = analytical_option_value(S=120, K=110, t=1, r=0.04, sigma=0.3)\n",
    "print(f'analytical option value: {value:.2f}')"
   ]
  },
  {
   "cell_type": "code",
   "execution_count": 201,
   "metadata": {},
   "outputs": [
    {
     "name": "stdout",
     "output_type": "stream",
     "text": [
      "call option value: 9.631534495343933\n"
     ]
    },
    {
     "data": {
      "image/png": "[encoded data removed]",
      "text/plain": [
       "<Figure size 432x288 with 1 Axes>"
      ]
     },
     "metadata": {
      "needs_background": "light"
     },
     "output_type": "display_data"
    }
   ],
   "source": [
    "n_space = 100  # grid size\n",
    "n_time = 1000  # time steps\n",
    "r = 0.04\n",
    "sigma = 0.3\n",
    "strike_price = 110\n",
    "stock_price = 100\n",
    "S_max = 4 * strike_price\n",
    "S_min = strike_price / 4\n",
    "t_max = 1\n",
    "\n",
    "x_max = np.log(S_max)\n",
    "x_min = np.log(S_min)\n",
    "x0 = np.log(stock_price)\n",
    "\n",
    "x, dx = np.linspace(x_min, x_max, n_space, retstep=True)  \n",
    "t, dt = np.linspace(0, t_max, n_time, retstep=True)\n",
    "\n",
    "s = np.exp(x)\n",
    "payoff = np.maximum(s - strike_price, 0)\n",
    "v = np.zeros((n_space, n_time))\n",
    "v[:, -1] = payoff\n",
    "v[0, :] = 0\n",
    "v[-1, :] = np.exp(x_max) - strike_price * np.exp(-r * t[::-1])\n",
    "\n",
    "sigma2, dx2 = sigma**2, dx**2\n",
    "\n",
    "alpha = 0.5 * dt * ((0.5 * sigma2 - r) / dx + sigma2 / dx2)\n",
    "beta = sigma2 * dt / dx2 + r * dt\n",
    "gamma = 0.5 * dt * ((r - 0.5 * sig2) / dx + sigma2 / dx2)\n",
    "\n",
    "a = -alpha\n",
    "b = 1 + beta\n",
    "c = -gamma\n",
    "\n",
    "A = diags([a, b, c], [-1, 0, 1], shape=(n_space-2, n_space-2)).tocsc()\n",
    "offset = np.zeros(n_space-2)\n",
    "\n",
    "for i in range(n_time-2, -1, -1):\n",
    "    \n",
    "    offset[0] = a * v[0,i]\n",
    "    offset[-1] = c * v[-1,i]\n",
    "    v[1:-1, i] = spsolve( A, (v[1:-1,i+1] - offset) )\n",
    "    \n",
    "v_ftcs = v[:,0]\n",
    "print(f'call option value: {np.interp(x0, x, v_ftcs)}')\n",
    "\n",
    "plt.plot(s, v_ftcs)\n",
    "plt.show()"
   ]
  },
  {
   "cell_type": "code",
   "execution_count": 210,
   "metadata": {},
   "outputs": [
    {
     "name": "stdout",
     "output_type": "stream",
     "text": [
      "call option value: 90.68847481139626\n"
     ]
    },
    {
     "data": {
      "image/png": "[encoded data removed]",
      "text/plain": [
       "<Figure size 432x288 with 1 Axes>"
      ]
     },
     "metadata": {
      "needs_background": "light"
     },
     "output_type": "display_data"
    }
   ],
   "source": [
    "n_space = 100  # grid size\n",
    "n_time = 1000  # time steps\n",
    "r = 0.04\n",
    "sigma = 0.3\n",
    "strike_price = 110\n",
    "stock_price = 100\n",
    "S_max = 4 * strike_price\n",
    "S_min = strike_price / 4\n",
    "t_max = 1\n",
    "\n",
    "x_max = np.log(S_max)\n",
    "x_min = np.log(S_min)\n",
    "x0 = np.log(stock_price)\n",
    "\n",
    "x, dx = np.linspace(x_min, x_max, n_space, retstep=True)  \n",
    "t, dt = np.linspace(0, t_max, n_time, retstep=True)\n",
    "\n",
    "s = np.exp(x)\n",
    "payoff = np.maximum(stock_price + s - strike_price, 0)\n",
    "v = np.zeros((n_space, n_time))\n",
    "v[:, -1] = payoff\n",
    "v[0, :] = 0\n",
    "for i in range(n_time):\n",
    "    v[-1, i] = np.exp(x_max) - strike_price * np.exp(-r * (t_max - (i+1)*dt)) +\\\n",
    "               np.exp(x_max) - strike_price * np.exp(-r * (t_max - (i)*dt))\n",
    "\n",
    "sigma2, dx2 = sigma**2, dx**2\n",
    "\n",
    "alpha = 0.5 * dt * ((0.5 * sigma2 - r) / dx + sigma2 / dx2)\n",
    "beta = sigma2 * dt / dx2 + r * dt\n",
    "gamma = 0.5 * dt * ((r - 0.5 * sig2) / dx + sigma2 / dx2)\n",
    "\n",
    "a = -alpha\n",
    "b1 = 1 + beta\n",
    "b2 = 1 - beta\n",
    "c = -gamma\n",
    "\n",
    "A = diags([a, b1, c], [-1, 0, 1], shape=(n_space-2, n_space-2)).tocsc()\n",
    "B = diags([-a, b2, -c], [-1, 0, 1], shape=(n_space-2, n_space-2)).tocsc()\n",
    "offset = np.zeros(n_space-2)\n",
    "\n",
    "for i in range(n_time-2, -1, -1):\n",
    "    \n",
    "    offset[0] = a * v[0,i]\n",
    "    offset[-1] = c * v[-1,i]\n",
    "    v[1:-1, i] = spsolve( A, (B @ v[1:-1,i+1] - offset) )\n",
    "    \n",
    "v_ftcs = v[:,0]\n",
    "print(f'call option value: {np.interp(x0, x, v_ftcs)}')\n",
    "\n",
    "plt.plot(s, v_ftcs)\n",
    "plt.show()"
   ]
  },
  {
   "cell_type": "code",
   "execution_count": null,
   "metadata": {},
   "outputs": [],
   "source": []
  }
 ],
 "metadata": {
  "kernelspec": {
   "display_name": "Python 3",
   "language": "python",
   "name": "python3"
  },
  "language_info": {
   "codemirror_mode": {
    "name": "ipython",
    "version": 3
   },
   "file_extension": ".py",
   "mimetype": "text/x-python",
   "name": "python",
   "nbconvert_exporter": "python",
   "pygments_lexer": "ipython3",
   "version": "3.7.6"
  },
  "varInspector": {
   "cols": {
    "lenName": 16,
    "lenType": 16,
    "lenVar": 40
   },
   "kernels_config": {
    "python": {
     "delete_cmd_postfix": "",
     "delete_cmd_prefix": "del ",
     "library": "var_list.py",
     "varRefreshCmd": "print(var_dic_list())"
    },
    "r": {
     "delete_cmd_postfix": ") ",
     "delete_cmd_prefix": "rm(",
     "library": "var_list.r",
     "varRefreshCmd": "cat(var_dic_list()) "
    }
   },
   "types_to_exclude": [
    "module",
    "function",
    "builtin_function_or_method",
    "instance",
    "_Feature"
   ],
   "window_display": false
  }
 },
 "nbformat": 4,
 "nbformat_minor": 4
}
