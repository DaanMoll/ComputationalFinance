{
 "metadata": {
  "language_info": {
   "codemirror_mode": {
    "name": "ipython",
    "version": 3
   },
   "file_extension": ".py",
   "mimetype": "text/x-python",
   "name": "python",
   "nbconvert_exporter": "python",
   "pygments_lexer": "ipython3",
   "version": "3.7.6-final"
  },
  "orig_nbformat": 2,
  "kernelspec": {
   "name": "python3",
   "display_name": "Python 3",
   "language": "python"
  }
 },
 "nbformat": 4,
 "nbformat_minor": 2,
 "cells": [
  {
   "source": [
    "# Computational Finance\n",
    "## Lab Assignment 1\n",
    "### Adrian + Daan + Menno "
   ],
   "cell_type": "markdown",
   "metadata": {}
  },
  {
   "cell_type": "code",
   "execution_count": 9,
   "metadata": {},
   "outputs": [],
   "source": [
    "import numpy as np\n",
    "import math\n",
    "from scipy.stats import norm"
   ]
  },
  {
   "source": [
    "### 1. Option Valuation using Binomial Trees\n",
    "\n",
    "We are trying to provide the risk-free fair price for an Option Call, a financial derivative that gives the option holder the right to buy an underlying security at one or many future events.\n",
    "\n",
    "We assume:\n",
    "\n",
    "- A two state economy, the price of the underlying can go up or down\n",
    "- Money can be invested risk free for a constant interest rate\n",
    "- There is no arbitrage or transaction costs"
   ],
   "cell_type": "markdown",
   "metadata": {}
  },
  {
   "source": [
    "def binomialTree(S, sigma, T, N, r, option_type='Call', origin = 'European'):\n",
    "    \n",
    "    # Time step\n",
    "    dt = T / N\n",
    "\n",
    "    # Possible price movements\n",
    "    u = np.exp(sigma * np.sqrt(dt))\n",
    "    d = np.exp(-sigma * np.sqrt(dt))\n",
    "\n",
    "    # Matrix that will hold the values\n",
    "    matrix = tree = np.zeros((N + 1, N + 1))\n",
    "\n",
    "    matrix[0, 0] = S\n",
    "\n",
    "    # Populate the matrix with the stock price progression\n",
    "    for i in np.arange(1, N + 1): # iterate over rows\n",
    "        for j in np.arange(i + 1): # iterate over columns\n",
    "            if j == 0:\n",
    "                matrix[i, j] = matrix[i-1, j] * d\n",
    "            else:\n",
    "                matrix[i, j] = matrix[i-1, j-1] * u\n",
    "\n",
    "    # Price at each step\n",
    "    p = (np.exp(r*dt) - d) / (u - d)\n",
    "\n",
    "    columns = tree.shape[1] \n",
    "    rows = tree.shape[0]\n",
    "\n",
    "    # Calculate the price for the expiration day nodes\n",
    "    for c in np.arange(columns):\n",
    "        S = tree[rows - 1, c] # Value in the matrix\n",
    "        if option_type == 'Call':\n",
    "            tree[rows - 1, c] =  max(0, S - K) \n",
    "        else: \n",
    "            tree[rows - 1, c] =  max(0, K - S) # Put option\n",
    "\n",
    "    # Backwards Induction through the nodes\n",
    "    for i in np.arange(rows - 1)[:: -1]:\n",
    "        for j in np.arange(i + 1):\n",
    "            down = tree[i + 1, j]\n",
    "            up = tree[i + 1, j + 1]\n",
    "            if origin == \"European\":\n",
    "                tree[i, j] = np.exp(-r*dt) * (p * up + (1-p) * down)\n",
    "\n",
    "            elif origin == 'American':\n",
    "                tree[i, j] = max(tree[i, j] - K, np.exp(-r*dt) * (p * up + (1-p) * down))\n",
    "    \n",
    "    return tree[0][0]"
   ],
   "cell_type": "code",
   "metadata": {},
   "execution_count": 33,
   "outputs": []
  },
  {
   "cell_type": "code",
   "execution_count": 37,
   "metadata": {},
   "outputs": [],
   "source": [
    "def black_sholes(S, K, t, r, sigma, option_type='Call'):\n",
    "    # Time to maturity\n",
    "    tau = T - t\n",
    "\n",
    "    # Parameters\n",
    "    d1 = (np.log(S/K) + (r + 0.5 * sigma**2) * tau) / (sigma * np.sqrt(tau))\n",
    "    d2 = d1 - sigma * np.sqrt(tau)\n",
    "\n",
    "    # Hedge amount at t\n",
    "    delta = norm.cdf(d1)\n",
    "\n",
    "    if option_type == 'Call':\n",
    "        call_price = S * norm.cdf(d1) - np.exp(-r*tau) * K * norm.cdf(d2)\n",
    "        return call_price, delta\n",
    "    else:\n",
    "        put_price = (np.exp(-r*tau) * K * norm.cdf(-d2)) - (S * norm.cdf(-d1))\n",
    "        return put_price, delta"
   ]
  },
  {
   "cell_type": "code",
   "execution_count": 34,
   "metadata": {},
   "outputs": [],
   "source": [
    "# Option Parameters\n",
    "\n",
    "S = S0 = 100 # Starting stock price\n",
    "K = 99 # Strike price\n",
    "T = 1 # Time of maturity\n",
    "N = 2 # Amount of steps, possible price changes\n",
    "r = 0.06 # Risk free interest rate\n",
    "sigma = vol = 0.2 # Volatility of the stock"
   ]
  },
  {
   "cell_type": "code",
   "execution_count": 35,
   "metadata": {},
   "outputs": [
    {
     "output_type": "stream",
     "name": "stdout",
     "text": [
      "10.842581789707506\n"
     ]
    }
   ],
   "source": [
    "test = binomialTree(S, sigma, T, N, r)\n",
    "print(test)"
   ]
  },
  {
   "cell_type": "code",
   "execution_count": null,
   "metadata": {},
   "outputs": [],
   "source": []
  }
 ]
}